{
 "cells": [
  {
   "cell_type": "code",
   "execution_count": null,
   "id": "3044d5ca",
   "metadata": {},
   "outputs": [],
   "source": [
    "import pandas as pd\n",
    "from sklearn.datasets import make_regression\n",
    "from sklearn.ensemble import RandomForestRegressor\n",
    "from sklearn.model_selection import train_test_split\n",
    "from sklearn.metrics import mean_absolute_error, mean_squared_error, r2_score\n"
   ]
  },
  {
   "cell_type": "code",
   "execution_count": 13,
   "id": "347dc28c",
   "metadata": {},
   "outputs": [],
   "source": [
    "\n",
    "# Load house price dataset\n",
    "df=pd.read_csv('preprocessed_housing.csv')"
   ]
  },
  {
   "cell_type": "code",
   "execution_count": 14,
   "id": "23d21e60",
   "metadata": {},
   "outputs": [],
   "source": [
    "# 1. Generate synthetic regression dataset\n",
    "X, y = make_regression(n_samples=200, n_features=5, noise=0.2, random_state=42)\n",
    "\n",
    "# 2. Split data into training and testing sets (80% train, 20% test)\n",
    "X_train, X_test, y_train, y_test = train_test_split(X, y, test_size=0.2, random_state=42)\n",
    "\n",
    "# 3. Initialize and train the Random Forest Regressor\n",
    "model = RandomForestRegressor(n_estimators=100, random_state=42)\n",
    "model.fit(X_train, y_train)\n",
    "\n",
    "# 4. Make predictions on the test set\n",
    "y_pred = model.predict(X_test)"
   ]
  },
  {
   "cell_type": "code",
   "execution_count": 15,
   "id": "e3318240",
   "metadata": {},
   "outputs": [
    {
     "name": "stdout",
     "output_type": "stream",
     "text": [
      "Model Performance Metrics:\n",
      "Mean Absolute Error (MAE): 20.83\n",
      "Mean Squared Error (MSE): 866.07\n",
      "R-squared (R² Score): 0.90\n"
     ]
    }
   ],
   "source": [
    "\n",
    "\n",
    "\n",
    "# 5. Evaluate the model using the requested metrics\n",
    "mae = mean_absolute_error(y_test, y_pred)\n",
    "mse = mean_squared_error(y_test, y_pred)\n",
    "r2 = r2_score(y_test, y_pred)\n",
    "\n",
    "# 6. Print the evaluation results\n",
    "print(\"Model Performance Metrics:\")\n",
    "print(f\"Mean Absolute Error (MAE): {mae:.2f}\")\n",
    "print(f\"Mean Squared Error (MSE): {mse:.2f}\")\n",
    "print(f\"R-squared (R² Score): {r2:.2f}\")\n",
    "\n"
   ]
  },
  {
   "cell_type": "code",
   "execution_count": 17,
   "id": "d9a65c14",
   "metadata": {},
   "outputs": [
    {
     "name": "stdout",
     "output_type": "stream",
     "text": [
      "🌳 Decision Tree Results:\n",
      "Mean Absolute Error: 33.9975\n",
      "Mean Squared Error: 1540.8825\n",
      "R-squared: 0.8239\n"
     ]
    }
   ],
   "source": [
    "from sklearn.tree import DecisionTreeRegressor\n",
    "dt_model = DecisionTreeRegressor(random_state=42)\n",
    "dt_model.fit(X_train, y_train)\n",
    "dt_pred = dt_model.predict(X_test)\n",
    "\n",
    "# Evaluation\n",
    "print(\"🌳 Decision Tree Results:\")\n",
    "print(f\"Mean Absolute Error: {mean_absolute_error(y_test, dt_pred):.4f}\")\n",
    "print(f\"Mean Squared Error: {mean_squared_error(y_test, dt_pred):.4f}\")\n",
    "print(f\"R-squared: {r2_score(y_test, dt_pred):.4f}\")"
   ]
  }
 ],
 "metadata": {
  "kernelspec": {
   "display_name": "ML",
   "language": "python",
   "name": "python3"
  },
  "language_info": {
   "codemirror_mode": {
    "name": "ipython",
    "version": 3
   },
   "file_extension": ".py",
   "mimetype": "text/x-python",
   "name": "python",
   "nbconvert_exporter": "python",
   "pygments_lexer": "ipython3",
   "version": "3.13.3"
  }
 },
 "nbformat": 4,
 "nbformat_minor": 5
}
